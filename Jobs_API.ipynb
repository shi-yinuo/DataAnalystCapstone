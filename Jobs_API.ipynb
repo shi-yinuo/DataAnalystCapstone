{
    "cells": [
        {
            "cell_type": "markdown",
            "id": "a66c1692-9c84-41ec-a135-b417ef41344d",
            "metadata": {},
            "source": "<p style=\"text-align:center\">\n    <a href=\"https://skills.network/?utm_medium=Exinfluencer&utm_source=Exinfluencer&utm_content=000026UJ&utm_term=10006555&utm_id=NA-SkillsNetwork-Channel-SkillsNetworkCoursesIBMDA0321ENSkillsNetwork928-2023-01-01\">\n    <img src=\"https://cf-courses-data.s3.us.cloud-object-storage.appdomain.cloud/assets/logos/SN_web_lightmode.png\" width=\"200\" alt=\"Skills Network Logo\"  />\n    </a>\n</p>\n"
        },
        {
            "cell_type": "markdown",
            "id": "6e786144-f1e4-45ee-b287-f2f4b87300d3",
            "metadata": {},
            "source": "# **JOBS API Implementation Using FLASK**\n\n"
        },
        {
            "cell_type": "markdown",
            "id": "aae78227-6f87-4090-80ab-49edba9c3003",
            "metadata": {},
            "source": "Estimated time needed: **45 to 60** minutes\n"
        },
        {
            "cell_type": "markdown",
            "id": "817156a7-4bab-46b8-9a67-55f3b0564c01",
            "metadata": {},
            "source": "## Objectives\n\nYou will be executing this code  so that the client application **Collecting Jobs API**  will be accessing this code executing on the server \n"
        },
        {
            "cell_type": "code",
            "execution_count": 1,
            "id": "4ac527ce-f921-44e2-b729-28ed03634a8e",
            "metadata": {},
            "outputs": [
                {
                    "name": "stdout",
                    "output_type": "stream",
                    "text": "Collecting flask\n  Downloading flask-3.0.0-py3-none-any.whl (99 kB)\n\u001b[2K     \u001b[90m\u2501\u2501\u2501\u2501\u2501\u2501\u2501\u2501\u2501\u2501\u2501\u2501\u2501\u2501\u2501\u2501\u2501\u2501\u2501\u2501\u2501\u2501\u2501\u2501\u2501\u2501\u2501\u2501\u2501\u2501\u2501\u2501\u2501\u2501\u2501\u2501\u2501\u2501\u2501\u2501\u001b[0m \u001b[32m99.7/99.7 kB\u001b[0m \u001b[31m12.0 MB/s\u001b[0m eta \u001b[36m0:00:00\u001b[0m\n\u001b[?25hCollecting itsdangerous>=2.1.2\n  Downloading itsdangerous-2.1.2-py3-none-any.whl (15 kB)\nCollecting Jinja2>=3.1.2\n  Downloading Jinja2-3.1.2-py3-none-any.whl (133 kB)\n\u001b[2K     \u001b[90m\u2501\u2501\u2501\u2501\u2501\u2501\u2501\u2501\u2501\u2501\u2501\u2501\u2501\u2501\u2501\u2501\u2501\u2501\u2501\u2501\u2501\u2501\u2501\u2501\u2501\u2501\u2501\u2501\u2501\u2501\u2501\u2501\u2501\u2501\u2501\u2501\u2501\u2501\u001b[0m \u001b[32m133.1/133.1 kB\u001b[0m \u001b[31m25.3 MB/s\u001b[0m eta \u001b[36m0:00:00\u001b[0m\n\u001b[?25hCollecting blinker>=1.6.2\n  Downloading blinker-1.6.3-py3-none-any.whl (13 kB)\nCollecting Werkzeug>=3.0.0\n  Downloading werkzeug-3.0.0-py3-none-any.whl (226 kB)\n\u001b[2K     \u001b[90m\u2501\u2501\u2501\u2501\u2501\u2501\u2501\u2501\u2501\u2501\u2501\u2501\u2501\u2501\u2501\u2501\u2501\u2501\u2501\u2501\u2501\u2501\u2501\u2501\u2501\u2501\u2501\u2501\u2501\u2501\u2501\u2501\u2501\u2501\u2501\u2501\u2501\u2501\u001b[0m \u001b[32m226.6/226.6 kB\u001b[0m \u001b[31m29.7 MB/s\u001b[0m eta \u001b[36m0:00:00\u001b[0m\n\u001b[?25hCollecting click>=8.1.3\n  Downloading click-8.1.7-py3-none-any.whl (97 kB)\n\u001b[2K     \u001b[90m\u2501\u2501\u2501\u2501\u2501\u2501\u2501\u2501\u2501\u2501\u2501\u2501\u2501\u2501\u2501\u2501\u2501\u2501\u2501\u2501\u2501\u2501\u2501\u2501\u2501\u2501\u2501\u2501\u2501\u2501\u2501\u2501\u2501\u2501\u2501\u2501\u2501\u2501\u2501\u2501\u001b[0m \u001b[32m97.9/97.9 kB\u001b[0m \u001b[31m13.9 MB/s\u001b[0m eta \u001b[36m0:00:00\u001b[0m\n\u001b[?25hRequirement already satisfied: MarkupSafe>=2.0 in /opt/conda/envs/Python-3.10/lib/python3.10/site-packages (from Jinja2>=3.1.2->flask) (2.1.1)\nInstalling collected packages: Werkzeug, Jinja2, itsdangerous, click, blinker, flask\n  Attempting uninstall: Werkzeug\n    Found existing installation: Werkzeug 2.2.3\n    Uninstalling Werkzeug-2.2.3:\n      Successfully uninstalled Werkzeug-2.2.3\n  Attempting uninstall: Jinja2\n    Found existing installation: Jinja2 3.0.3\n    Uninstalling Jinja2-3.0.3:\n      Successfully uninstalled Jinja2-3.0.3\n  Attempting uninstall: click\n    Found existing installation: click 8.0.4\n    Uninstalling click-8.0.4:\n      Successfully uninstalled click-8.0.4\n  Attempting uninstall: blinker\n    Found existing installation: blinker 1.4\n    Uninstalling blinker-1.4:\n      Successfully uninstalled blinker-1.4\n\u001b[31mERROR: pip's dependency resolver does not currently take into account all the packages that are installed. This behaviour is the source of the following dependency conflicts.\nlale 0.7.1 requires click==8.0.4, but you have click 8.1.7 which is incompatible.\u001b[0m\u001b[31m\n\u001b[0mSuccessfully installed Jinja2-3.1.2 Werkzeug-3.0.0 blinker-1.6.3 click-8.1.7 flask-3.0.0 itsdangerous-2.1.2\n"
                }
            ],
            "source": "!pip install flask"
        },
        {
            "cell_type": "markdown",
            "id": "0e5bba17-58e7-49a4-8040-0831e93466f5",
            "metadata": {},
            "source": "## Dataset Used in this Assignment\n\nThe dataset used in this lab comes from the following source: https://www.kaggle.com/promptcloud/jobs-on-naukricom under the under a **Public Domain license**.\n\n> Note: We are using a modified subset of that dataset for the lab, so to follow the lab instructions successfully please use the dataset provided with the lab, rather than the dataset from the original source.\n\nThe original dataset is a csv. We have converted the csv to json as per the requirement of the lab.\n"
        },
        {
            "cell_type": "code",
            "execution_count": 2,
            "id": "c2eed468-b4cd-481a-a18e-1851e2fc7a4a",
            "metadata": {},
            "outputs": [
                {
                    "name": "stdout",
                    "output_type": "stream",
                    "text": "--2023-10-18 05:27:57--  https://cf-courses-data.s3.us.cloud-object-storage.appdomain.cloud/IBM-DA0321EN-SkillsNetwork/labs/module%201/Accessing%20Data%20Using%20APIs/jobs.json\nResolving cf-courses-data.s3.us.cloud-object-storage.appdomain.cloud (cf-courses-data.s3.us.cloud-object-storage.appdomain.cloud)... 169.63.118.104\nConnecting to cf-courses-data.s3.us.cloud-object-storage.appdomain.cloud (cf-courses-data.s3.us.cloud-object-storage.appdomain.cloud)|169.63.118.104|:443... connected.\nHTTP request sent, awaiting response... 200 OK\nLength: 12878382 (12M) [application/json]\nSaving to: \u2018jobs.json\u2019\n\njobs.json           100%[===================>]  12.28M  1.79MB/s    in 14s     \n\n2023-10-18 05:28:12 (879 KB/s) - \u2018jobs.json\u2019 saved [12878382/12878382]\n\n"
                }
            ],
            "source": "!wget  https://cf-courses-data.s3.us.cloud-object-storage.appdomain.cloud/IBM-DA0321EN-SkillsNetwork/labs/module%201/Accessing%20Data%20Using%20APIs/jobs.json"
        },
        {
            "cell_type": "code",
            "execution_count": null,
            "id": "21697c9d",
            "metadata": {},
            "outputs": [
                {
                    "name": "stdout",
                    "output_type": "stream",
                    "text": " * Serving Flask app '__main__'\n * Debug mode: off\n"
                },
                {
                    "name": "stderr",
                    "output_type": "stream",
                    "text": "\u001b[31m\u001b[1mWARNING: This is a development server. Do not use it in a production deployment. Use a production WSGI server instead.\u001b[0m\n * Running on http://127.0.0.1:5000\n\u001b[33mPress CTRL+C to quit\u001b[0m\n"
                }
            ],
            "source": "import flask\nfrom flask import request, jsonify\nimport requests\nimport re\n\ndef get_data(key,value,current):\n    results = list()\n    pattern_dict = {\n        'C'      : '(C)',\n        'C++'    : '(C\\+\\+)',\n        'Java'   :'(Java)',\n        'C#'     : '(C\\#)',\n        'Python' :'(Python)',\n        'Scala' : '(Scala)',\n        'Oracle' : '(Oracle)',\n        'SQL Server': '(SQL Server)',\n        'MySQL Server' :'(MySQL Server)',\n        'PostgreSQL':'(PostgreSQL)',\n        'MongoDB'    : '(MongoDB)',\n        'JavaScript'    : '(JavaScript)',\n        'Los Angeles' :'(Los Angeles)',\n        'New York':'(New York)',\n        'San Francisco':'(San Francisco)',\n        'Washington DC':'(Washington DC)',\n        'Seattle':'(Seattle)',\n        'Austin':'(Austin)',\n        'Detroit':'(Detroit)',\n        \n        \n        \n        \n        \n    }\n    for rec in current:\n        print(rec[key])\n        print(type(rec[key]))\n        print(rec[key].find(value))\n        #if rec[key].find(value) != -1:\n        import re\n        #reex_str = \"\"\"(C)|(C\\+\\+)|(JavaScript)|(Java)|(C\\#)|(Python)|(Scala)|(Oracle)|(SQL Server)|(MySQL Server)|(PostgreSQL)|(MongoDB)\"\"\"\n        if re.search(pattern_dict[value],rec[key]) != None:\n            results.append(rec)\n    return results\n\napp = flask.Flask(__name__)\n\nimport json\ndata = None\nwith open('jobs.json',encoding='utf-8') as f:\n    # returns JSON object as\n    # a dictionary\n    data = json.load(f)\n    \n    \n\n@app.route('/', methods=['GET'])\ndef home():\n    \n    return '''<h1>Welcome to flask JOB search API</p>'''\n\n\n@app.route('/data/all', methods=['GET'])\ndef api_all():\n    return jsonify(data)\n\n\n@app.route('/data', methods=['GET'])\ndef api_id():\n    # Check if keys such as Job Title,KeySkills, Role Category and others  are provided as part of the URL.\n    #  Assign the keys to the corresponding variables..\n    # If no key is provided, display an error in the browser.\n    res = None\n    for req in request.args:\n        \n        if req == 'Job Title':\n            key = 'Job Title'\n        elif req == 'Job Experience Required' :\n            key='Job Experience Required'\n        elif req == 'Key Skills' :\n            key='Key Skills'\n            \n        elif req == 'Role Category' :\n            key='Role Category'\n        elif req == 'Location' :\n            key='Location'\n        \n        elif req == 'Functional Area' :\n            key='Functional Area'\n        \n        elif req == 'Industry' :\n            key='Industry'\n        elif req == 'Role' :\n            key='Role'\n        elif req==\"id\":\n             key=\"id\"\n        else:\n            pass\n    \n        value = request.args[key]\n        if (res==None):\n            res = get_data(key,value,data)\n        else:\n            res = get_data(key,value,res)\n\n    # Use the jsonify function from Flask to convert our list of\n    # Python dictionaries to the JSON format.\n    return jsonify(res)\n\napp.run()"
        },
        {
            "cell_type": "markdown",
            "id": "c3599fa2-05b9-4285-9699-08dc2f14c7f2",
            "metadata": {},
            "source": "## Authors\n"
        },
        {
            "cell_type": "markdown",
            "id": "b47c3a9c-437a-4067-a532-a7765443fbe7",
            "metadata": {},
            "source": "Lakshmi Holla  \n"
        },
        {
            "cell_type": "markdown",
            "id": "5f42fdbf-c7b7-409f-b435-28d64d1607e3",
            "metadata": {},
            "source": "### Other Contributors\n"
        },
        {
            "cell_type": "markdown",
            "id": "c323fbe6-dc6a-4dbc-9569-74c9041ea88c",
            "metadata": {},
            "source": "Malika Singla  \nAyushi Jain\n"
        },
        {
            "cell_type": "markdown",
            "id": "1ffa5fb5-70ab-4f23-aee6-09cb260c1475",
            "metadata": {},
            "source": "## Changelog\n"
        },
        {
            "cell_type": "markdown",
            "id": "c9348598-d30b-4359-b163-8177b50bcb3a",
            "metadata": {},
            "source": "| Date (YYYY-MM-DD) | Version | Changed By        | Change Description                 |\n| ----------------- | ------- | ----------------- | ---------------------------------- |\n| 2022-01-03        | 0.1     | Lakshmi Holla  | Created Initial Version\n"
        },
        {
            "cell_type": "markdown",
            "id": "3f233ece-5867-4880-a325-d198f567a5b0",
            "metadata": {},
            "source": "Copyright \u00a9 2022 IBM Corporation. This notebook and its source code are released under the terms of the [MIT License](https://cognitiveclass.ai/mit-license?utm_medium=Exinfluencer&utm_source=Exinfluencer&utm_content=000026UJ&utm_term=10006555&utm_id=NA-SkillsNetwork-Channel-SkillsNetworkCoursesIBMDA0321ENSkillsNetwork21426264-2021-01-01&cm_mmc=Email_Newsletter-_-Developer_Ed%2BTech-_-WW_WW-_-SkillsNetwork-Courses-IBM-DA0321EN-SkillsNetwork-21426264&cm_mmca1=000026UJ&cm_mmca2=10006555&cm_mmca3=M12345678&cvosrc=email.Newsletter.M12345678&cvo_campaign=000026UJ).\n"
        }
    ],
    "metadata": {
        "kernelspec": {
            "display_name": "Python 3.10",
            "language": "python",
            "name": "python3"
        },
        "language_info": {
            "codemirror_mode": {
                "name": "ipython",
                "version": 3
            },
            "file_extension": ".py",
            "mimetype": "text/x-python",
            "name": "python",
            "nbconvert_exporter": "python",
            "pygments_lexer": "ipython3",
            "version": "3.10.13"
        }
    },
    "nbformat": 4,
    "nbformat_minor": 5
}