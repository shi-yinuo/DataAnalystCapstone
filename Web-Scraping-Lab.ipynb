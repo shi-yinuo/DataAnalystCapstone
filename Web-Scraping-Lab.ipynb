{
    "cells": [
        {
            "cell_type": "markdown",
            "metadata": {},
            "source": "<p style=\"text-align:center\">\n    <a href=\"https://skills.network/?utm_medium=Exinfluencer&utm_source=Exinfluencer&utm_content=000026UJ&utm_term=10006555&utm_id=NA-SkillsNetwork-Channel-SkillsNetworkCoursesIBMDA0321ENSkillsNetwork928-2022-01-01\" target=\"_blank\">\n    <img src=\"https://cf-courses-data.s3.us.cloud-object-storage.appdomain.cloud/assets/logos/SN_web_lightmode.png\" width=\"200\" alt=\"Skills Network Logo\"  />\n    </a>\n</p>\n"
        },
        {
            "cell_type": "markdown",
            "metadata": {},
            "source": "# **Hands-on Lab : Web Scraping**\n"
        },
        {
            "cell_type": "markdown",
            "metadata": {},
            "source": "Estimated time needed: **30 to 45** minutes\n"
        },
        {
            "cell_type": "markdown",
            "metadata": {},
            "source": "## Objectives\n"
        },
        {
            "cell_type": "markdown",
            "metadata": {},
            "source": "In this lab you will perform the following:\n"
        },
        {
            "cell_type": "markdown",
            "metadata": {},
            "source": "* Extract information from a given web site \n* Write the scraped data into a csv file.\n"
        },
        {
            "cell_type": "markdown",
            "metadata": {},
            "source": "## Extract information from the given web site\nYou will extract the data from the below web site: <br> \n"
        },
        {
            "cell_type": "code",
            "execution_count": 1,
            "metadata": {},
            "outputs": [],
            "source": "#this url contains the data you need to scrape\nurl = \"https://cf-courses-data.s3.us.cloud-object-storage.appdomain.cloud/IBM-DA0321EN-SkillsNetwork/labs/datasets/Programming_Languages.html\""
        },
        {
            "cell_type": "markdown",
            "metadata": {},
            "source": "The data you need to scrape is the **name of the programming language** and **average annual salary**.<br> It is a good idea to open the url in your web broswer and study the contents of the web page before you start to scrape.\n"
        },
        {
            "cell_type": "markdown",
            "metadata": {},
            "source": "Import the required libraries\n"
        },
        {
            "cell_type": "code",
            "execution_count": 2,
            "metadata": {},
            "outputs": [],
            "source": "# Your code here\nfrom bs4 import BeautifulSoup # this module helps in web scrapping.\nimport requests  # this module helps us to download a web page"
        },
        {
            "cell_type": "markdown",
            "metadata": {},
            "source": "Download the webpage at the url\n"
        },
        {
            "cell_type": "code",
            "execution_count": 3,
            "metadata": {},
            "outputs": [],
            "source": "#your code goes here\n# get the contents of the webpage in text format and store in a variable called data\ndata  = requests.get(url).text"
        },
        {
            "cell_type": "markdown",
            "metadata": {},
            "source": "Create a soup object\n"
        },
        {
            "cell_type": "code",
            "execution_count": 4,
            "metadata": {},
            "outputs": [],
            "source": "#your code goes here\nsoup = BeautifulSoup(data)"
        },
        {
            "cell_type": "markdown",
            "metadata": {},
            "source": "Scrape the `Language name` and `annual average salary`.\n"
        },
        {
            "cell_type": "code",
            "execution_count": 5,
            "metadata": {},
            "outputs": [
                {
                    "name": "stdout",
                    "output_type": "stream",
                    "text": "Language--->Average Annual Salary\nPython--->$114,383\nJava--->$101,013\nR--->$92,037\nJavascript--->$110,981\nSwift--->$130,801\nC++--->$113,865\nC#--->$88,726\nPHP--->$84,727\nSQL--->$84,793\nGo--->$94,082\n"
                }
            ],
            "source": "#your code goes here\ntable = soup.find('table') # in html table is represented by the tag <table>\n#Get all rows from the table\nfor row in table.find_all('tr'): # in html table row is represented by the tag <tr>\n    # Get all columns in each row.\n    cols = row.find_all('td') # in html a column is represented by the tag <td>\n    color_name = cols[1].getText() # store the value in column 3 as color_name\n    color_salary = cols[3].getText() # store the value in column 4 as color_code\n    print(\"{}--->{}\".format(color_name,color_salary))"
        },
        {
            "cell_type": "markdown",
            "metadata": {},
            "source": "Save the scrapped data into a file named *popular-languages.csv*\n"
        },
        {
            "cell_type": "code",
            "execution_count": 6,
            "metadata": {},
            "outputs": [],
            "source": "import pandas as pd"
        },
        {
            "cell_type": "code",
            "execution_count": 7,
            "metadata": {},
            "outputs": [
                {
                    "name": "stdout",
                    "output_type": "stream",
                    "text": "   Language Name         Average Salary\n0       Language  Average Annual Salary\n1         Python               $114,383\n2           Java               $101,013\n3              R                $92,037\n4     Javascript               $110,981\n5          Swift               $130,801\n6            C++               $113,865\n7             C#                $88,726\n8            PHP                $84,727\n9            SQL                $84,793\n10            Go                $94,082\n   Language Name Average Salary\n1         Python       $114,383\n2           Java       $101,013\n3              R        $92,037\n4     Javascript       $110,981\n5          Swift       $130,801\n6            C++       $113,865\n7             C#        $88,726\n8            PHP        $84,727\n9            SQL        $84,793\n10            Go        $94,082\n"
                }
            ],
            "source": "# your code goes here\nlanguage = []\nsalary = []\nfor row in table.find_all('tr'):\n    cols = row.find_all('td')\n    language.append(cols[1].text)\n    salary.append(cols[3].text)\n\ndf = pd.DataFrame({'Language Name': language, 'Average Salary': salary})\nprint(df)\n#drop first row\ndf.drop(index=df.index[0], axis=0, inplace=True)\nprint(df)"
        },
        {
            "cell_type": "code",
            "execution_count": 11,
            "metadata": {},
            "outputs": [],
            "source": "df.to_csv('popular-languages.csv')"
        },
        {
            "cell_type": "code",
            "execution_count": 17,
            "metadata": {},
            "outputs": [
                {
                    "data": {
                        "text/html": "<div>\n<style scoped>\n    .dataframe tbody tr th:only-of-type {\n        vertical-align: middle;\n    }\n\n    .dataframe tbody tr th {\n        vertical-align: top;\n    }\n\n    .dataframe thead th {\n        text-align: right;\n    }\n</style>\n<table border=\"1\" class=\"dataframe\">\n  <thead>\n    <tr style=\"text-align: right;\">\n      <th></th>\n      <th>Language Name</th>\n      <th>Average Salary</th>\n      <th>Salary</th>\n    </tr>\n  </thead>\n  <tbody>\n    <tr>\n      <th>1</th>\n      <td>Python</td>\n      <td>$114,383</td>\n      <td>$114,383</td>\n    </tr>\n    <tr>\n      <th>2</th>\n      <td>Java</td>\n      <td>$101,013</td>\n      <td>$101,013</td>\n    </tr>\n    <tr>\n      <th>3</th>\n      <td>R</td>\n      <td>$92,037</td>\n      <td>$92,037</td>\n    </tr>\n    <tr>\n      <th>4</th>\n      <td>Javascript</td>\n      <td>$110,981</td>\n      <td>$110,981</td>\n    </tr>\n    <tr>\n      <th>5</th>\n      <td>Swift</td>\n      <td>$130,801</td>\n      <td>$130,801</td>\n    </tr>\n  </tbody>\n</table>\n</div>",
                        "text/plain": "  Language Name Average Salary    Salary\n1        Python       $114,383  $114,383\n2          Java       $101,013  $101,013\n3             R        $92,037   $92,037\n4    Javascript       $110,981  $110,981\n5         Swift       $130,801  $130,801"
                    },
                    "execution_count": 17,
                    "metadata": {},
                    "output_type": "execute_result"
                }
            ],
            "source": "df1 = df.assign(Salary=df['Average Salary'])\ndf1.head()"
        },
        {
            "cell_type": "code",
            "execution_count": 18,
            "metadata": {},
            "outputs": [
                {
                    "data": {
                        "text/html": "<div>\n<style scoped>\n    .dataframe tbody tr th:only-of-type {\n        vertical-align: middle;\n    }\n\n    .dataframe tbody tr th {\n        vertical-align: top;\n    }\n\n    .dataframe thead th {\n        text-align: right;\n    }\n</style>\n<table border=\"1\" class=\"dataframe\">\n  <thead>\n    <tr style=\"text-align: right;\">\n      <th></th>\n      <th>Language Name</th>\n      <th>Average Salary</th>\n      <th>Salary</th>\n    </tr>\n  </thead>\n  <tbody>\n    <tr>\n      <th>1</th>\n      <td>Python</td>\n      <td>$114,383</td>\n      <td>114383.0</td>\n    </tr>\n    <tr>\n      <th>2</th>\n      <td>Java</td>\n      <td>$101,013</td>\n      <td>101013.0</td>\n    </tr>\n    <tr>\n      <th>3</th>\n      <td>R</td>\n      <td>$92,037</td>\n      <td>92037.0</td>\n    </tr>\n    <tr>\n      <th>4</th>\n      <td>Javascript</td>\n      <td>$110,981</td>\n      <td>110981.0</td>\n    </tr>\n    <tr>\n      <th>5</th>\n      <td>Swift</td>\n      <td>$130,801</td>\n      <td>130801.0</td>\n    </tr>\n  </tbody>\n</table>\n</div>",
                        "text/plain": "  Language Name Average Salary    Salary\n1        Python       $114,383  114383.0\n2          Java       $101,013  101013.0\n3             R        $92,037   92037.0\n4    Javascript       $110,981  110981.0\n5         Swift       $130,801  130801.0"
                    },
                    "execution_count": 18,
                    "metadata": {},
                    "output_type": "execute_result"
                }
            ],
            "source": "df1['Salary'] = df1['Salary'].replace('[\\$,]', '', regex=True).astype(float)\ndf1.head()"
        },
        {
            "cell_type": "code",
            "execution_count": 26,
            "metadata": {},
            "outputs": [
                {
                    "data": {
                        "text/plain": "<AxesSubplot:xlabel='Language Name', ylabel='Salary in USD'>"
                    },
                    "execution_count": 26,
                    "metadata": {},
                    "output_type": "execute_result"
                },
                {
                    "data": {
                        "image/png": "[encoded data removed]",
                        "text/plain": "<Figure size 640x480 with 1 Axes>"
                    },
                    "metadata": {},
                    "output_type": "display_data"
                }
            ],
            "source": "df1.sort_values(by='Salary', ascending=False).plot(kind='bar', x='Language Name', y='Salary', ylabel='Salary in USD')"
        },
        {
            "cell_type": "markdown",
            "metadata": {},
            "source": "## Authors\n"
        },
        {
            "cell_type": "markdown",
            "metadata": {},
            "source": "Ramesh Sannareddy\n"
        },
        {
            "cell_type": "markdown",
            "metadata": {},
            "source": "### Other Contributors\n"
        },
        {
            "cell_type": "markdown",
            "metadata": {},
            "source": "Rav Ahuja\n"
        },
        {
            "cell_type": "markdown",
            "metadata": {},
            "source": "## Change Log\n"
        },
        {
            "cell_type": "markdown",
            "metadata": {},
            "source": "|  Date (YYYY-MM-DD) |  Version | Changed By  |  Change Description |\n|---|---|---|---|\n| 2020-10-17  | 0.1  | Ramesh Sannareddy  |  Created initial version of the lab |\n"
        },
        {
            "cell_type": "markdown",
            "metadata": {},
            "source": " Copyright &copy; 2020 IBM Corporation. This notebook and its source code are released under the terms of the [MIT License](https://cognitiveclass.ai/mit-license/?utm_medium=Exinfluencer&utm_source=Exinfluencer&utm_content=000026UJ&utm_term=10006555&utm_id=NA-SkillsNetwork-Channel-SkillsNetworkCoursesIBMDA0321ENSkillsNetwork928-2022-01-01).\n"
        }
    ],
    "metadata": {
        "kernelspec": {
            "display_name": "Python 3.10",
            "language": "python",
            "name": "python3"
        },
        "language_info": {
            "codemirror_mode": {
                "name": "ipython",
                "version": 3
            },
            "file_extension": ".py",
            "mimetype": "text/x-python",
            "name": "python",
            "nbconvert_exporter": "python",
            "pygments_lexer": "ipython3",
            "version": "3.10.13"
        }
    },
    "nbformat": 4,
    "nbformat_minor": 4
}